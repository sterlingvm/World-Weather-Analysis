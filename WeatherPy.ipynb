{
 "cells": [
  {
   "cell_type": "code",
   "execution_count": 1,
   "id": "82752b05",
   "metadata": {},
   "outputs": [],
   "source": [
    "# Import dependencies\n",
    "import pandas as pd\n",
    "import numpy as np\n",
    "import matplotlib.pyplot as plt"
   ]
  },
  {
   "cell_type": "code",
   "execution_count": 2,
   "id": "fce7b60f",
   "metadata": {},
   "outputs": [
    {
     "data": {
      "text/plain": [
       "<zip at 0x7fd33e6d0500>"
      ]
     },
     "execution_count": 2,
     "metadata": {},
     "output_type": "execute_result"
    }
   ],
   "source": [
    "# Create a set of random latitude and longitude\n",
    "lats = np.random.uniform(low=-90.000, high=90.000, size=1500)\n",
    "lngs = np.random.uniform(low=-180.000, high=180.000, size=1500)\n",
    "lat_lngs = zip(lats,lngs)\n",
    "lat_lngs"
   ]
  },
  {
   "cell_type": "code",
   "execution_count": 3,
   "id": "4d62bf4c",
   "metadata": {},
   "outputs": [],
   "source": [
    "# Remember! You can onlt unzip a zipped tuple ONCE before it is \n",
    "# erased from the computer. So make sure to unzip it into a \n",
    "# coordinates = list(zip)\n"
   ]
  },
  {
   "cell_type": "code",
   "execution_count": 4,
   "id": "959b4941",
   "metadata": {},
   "outputs": [],
   "source": [
    "# Add the latitudes and longitudes to a list\n",
    "coordinates = list(lat_lngs)"
   ]
  },
  {
   "cell_type": "code",
   "execution_count": 5,
   "id": "b2b61136",
   "metadata": {},
   "outputs": [],
   "source": [
    "# install citipy module onto PythonData Environment (Handled in Terminal)"
   ]
  },
  {
   "cell_type": "code",
   "execution_count": 6,
   "id": "36163127",
   "metadata": {},
   "outputs": [],
   "source": [
    "# Use the citipy module to determine cities based on latitude and longitude values\n",
    "from citipy import citipy"
   ]
  },
  {
   "cell_type": "code",
   "execution_count": null,
   "id": "4d72d025",
   "metadata": {},
   "outputs": [],
   "source": []
  }
 ],
 "metadata": {
  "kernelspec": {
   "display_name": "PythonData",
   "language": "python",
   "name": "pythondata"
  },
  "language_info": {
   "codemirror_mode": {
    "name": "ipython",
    "version": 3
   },
   "file_extension": ".py",
   "mimetype": "text/x-python",
   "name": "python",
   "nbconvert_exporter": "python",
   "pygments_lexer": "ipython3",
   "version": "3.8.8"
  }
 },
 "nbformat": 4,
 "nbformat_minor": 5
}
